{
 "cells": [
  {
   "cell_type": "markdown",
   "metadata": {
    "collapsed": true,
    "pycharm": {
     "name": "#%% md\n"
    }
   },
   "source": [
    "You are given two non-empty linked lists representing two non-negative integers. The digits are stored in reverse order and each of their nodes contain a single digit. Add the two numbers and return it as a linked list.\n",
    "\n",
    "You may assume the two numbers do not contain any leading zero, except the number 0 itself.\n",
    "\n",
    "Example:\n",
    "\n",
    "Input: (2 -> 4 -> 3) + (5 -> 6 -> 4)\n",
    "Output: 7 -> 0 -> 8\n",
    "Explanation: 342 + 465 = 807."
   ]
  },
  {
   "cell_type": "markdown",
   "source": [
    "## Solution 1"
   ],
   "metadata": {
    "collapsed": false
   }
  },
  {
   "cell_type": "code",
   "execution_count": 60,
   "outputs": [],
   "source": [
    "# Definition for singly-linked list.\n",
    "class ListNode:\n",
    "    def __init__(self, x):\n",
    "        self.val = x\n",
    "        self.next = None\n",
    "    def __str__(self):\n",
    "        result = []\n",
    "        node = self\n",
    "        while node:\n",
    "            result.append(str(node.val))\n",
    "            node = node.next\n",
    "        return\"->\".join(result)\n",
    "    \n",
    "    def __repr__(self):\n",
    "        return str(self)\n",
    "            \n",
    "def init_from_list(lst: list) -> ListNode:\n",
    "    node = None\n",
    "    for i in reversed(lst):\n",
    "        head = ListNode(i)\n",
    "        head.next = node\n",
    "        node = head\n",
    "    return node\n",
    "\n",
    "class Solution:\n",
    "    def updateNodeWith10(self, node: ListNode) -> ListNode:\n",
    "        next_node = node.next\n",
    "        if next_node is None:\n",
    "            next_node = ListNode(0)\n",
    "            node.next = next_node\n",
    "        target_val = next_node.val + 1\n",
    "        if target_val > 9:\n",
    "            target_val = target_val % 10\n",
    "            self.updateNodeWith10(next_node)\n",
    "        next_node.val = target_val\n",
    "\n",
    "    def addTwoNumbers(self, l1: ListNode, l2: ListNode) -> ListNode:\n",
    "        val = (l1.val if l1 else 0) + (l2.val if l2 else 0)\n",
    "        if val > 9:\n",
    "            self.updateNodeWith10(l1)\n",
    "            val = val % 10\n",
    "        l1.val = val\n",
    "        if l2.next and not l1.next:\n",
    "            l1.next = ListNode(0)\n",
    "        if l1.next and not l2.next:\n",
    "            l2.next = ListNode(0)\n",
    "        if l2.next or l1.next:\n",
    "            self.addTwoNumbers(l1.next, l2.next)\n",
    "        return l1\n",
    "\n",
    "\n"
   ],
   "metadata": {
    "collapsed": false,
    "pycharm": {
     "name": "#%%\n",
     "is_executing": false
    }
   }
  },
  {
   "cell_type": "code",
   "execution_count": 61,
   "outputs": [
    {
     "name": "stdout",
     "text": [
      "0\n",
      "0\n",
      "0\n"
     ],
     "output_type": "stream"
    }
   ],
   "source": [
    "list1 = [0]\n",
    "list2 = [0]\n",
    "\n",
    "l1 = init_from_list(list1)\n",
    "l2 = init_from_list(list2)\n",
    "print(l1)\n",
    "print(l2)\n",
    "l3 = Solution().addTwoNumbers(l1, l2)\n",
    "print(l3)\n"
   ],
   "metadata": {
    "collapsed": false,
    "pycharm": {
     "name": "#%%\n",
     "is_executing": false
    }
   }
  },
  {
   "cell_type": "markdown",
   "source": [
    "## Solution 2"
   ],
   "metadata": {
    "collapsed": false,
    "pycharm": {
     "name": "#%% md\n"
    }
   }
  },
  {
   "cell_type": "code",
   "execution_count": 35,
   "outputs": [],
   "source": [
    "# Definition for singly-linked list.\n",
    "\n",
    "        \n",
    "class Solution2:\n",
    "    def addTwoNumbers(self, l1: ListNode, l2: ListNode) -> ListNode:\n",
    "        result = ListNode(0)\n",
    "        result_tail = result\n",
    "        carry = 0\n",
    "                \n",
    "        while l1 or l2 or carry:            \n",
    "            val1  = l1.val if l1 else 0\n",
    "            val2  = l2.val if l2 else 0\n",
    "            carry, out = divmod(val1+val2 + carry, 10)    \n",
    "                      \n",
    "            result_tail.next = ListNode(out)\n",
    "            result_tail = result_tail.next                      \n",
    "            \n",
    "            l1 = l1.next if l1 else None\n",
    "            l2 = l2.next if l2 else None\n",
    "               \n",
    "        return result.next\n",
    "    "
   ],
   "metadata": {
    "collapsed": false,
    "pycharm": {
     "name": "#%%\n",
     "is_executing": false
    }
   }
  },
  {
   "cell_type": "code",
   "execution_count": 36,
   "outputs": [
    {
     "name": "stdout",
     "text": [
      "5->1\n",
      "5\n",
      "0->2\n"
     ],
     "output_type": "stream"
    }
   ],
   "source": [
    "list1 = [5, 1]\n",
    "list2 = [5]\n",
    "\n",
    "l1 = init_from_list(list1)\n",
    "l2 = init_from_list(list2)\n",
    "print(l1)\n",
    "print(l2)\n",
    "\n",
    "l3 = Solution2().addTwoNumbers(l1, l2)\n",
    "\n",
    "print(l3)"
   ],
   "metadata": {
    "collapsed": false,
    "pycharm": {
     "name": "#%%\n",
     "is_executing": false
    }
   }
  },
  {
   "cell_type": "code",
   "execution_count": null,
   "outputs": [],
   "source": [
    "\n"
   ],
   "metadata": {
    "collapsed": false,
    "pycharm": {
     "name": "#%%\n"
    }
   }
  }
 ],
 "metadata": {
  "kernelspec": {
   "display_name": "Python 3",
   "language": "python",
   "name": "python3"
  },
  "language_info": {
   "codemirror_mode": {
    "name": "ipython",
    "version": 2
   },
   "file_extension": ".py",
   "mimetype": "text/x-python",
   "name": "python",
   "nbconvert_exporter": "python",
   "pygments_lexer": "ipython2",
   "version": "2.7.6"
  },
  "pycharm": {
   "stem_cell": {
    "cell_type": "raw",
    "source": [],
    "metadata": {
     "collapsed": false
    }
   }
  }
 },
 "nbformat": 4,
 "nbformat_minor": 0
}